{
  "cells": [
    {
      "cell_type": "markdown",
      "metadata": {
        "id": "7Cy2P-c4XFTx"
      },
      "source": [
        "### Setup"
      ]
    },
    {
      "cell_type": "markdown",
      "metadata": {
        "id": "Tj7eyweNapes"
      },
      "source": [
        "apt install requirements"
      ]
    },
    {
      "cell_type": "code",
      "execution_count": 1,
      "metadata": {
        "colab": {
          "base_uri": "https://localhost:8080/"
        },
        "id": "HKMZc5zvfoY1",
        "outputId": "ba9c9c41-6a2b-4254-d890-c9bb05ea6f6d"
      },
      "outputs": [
        {
          "name": "stdout",
          "output_type": "stream",
          "text": [
            "Reading package lists... Done\n",
            "Building dependency tree       \n",
            "Reading state information... Done\n",
            "libgl1-mesa-dev is already the newest version (20.0.8-0ubuntu1~18.04.1).\n",
            "libgl1-mesa-dev set to manually installed.\n",
            "software-properties-common is already the newest version (0.96.24.32.18).\n",
            "The following packages were automatically installed and are no longer required:\n",
            "  libnvidia-common-460 nsight-compute-2020.2.0\n",
            "Use 'apt autoremove' to remove them.\n",
            "Suggested packages:\n",
            "  glew-utils\n",
            "The following NEW packages will be installed:\n",
            "  libgl1-mesa-glx libglew-dev libglew2.0 libosmesa6 libosmesa6-dev\n",
            "0 upgraded, 5 newly installed, 0 to remove and 42 not upgraded.\n",
            "Need to get 2,916 kB of archives.\n",
            "After this operation, 12.6 MB of additional disk space will be used.\n",
            "Get:1 http://archive.ubuntu.com/ubuntu bionic-updates/main amd64 libgl1-mesa-glx amd64 20.0.8-0ubuntu1~18.04.1 [5,532 B]\n",
            "Get:2 http://archive.ubuntu.com/ubuntu bionic/universe amd64 libglew2.0 amd64 2.0.0-5 [140 kB]\n",
            "Get:3 http://archive.ubuntu.com/ubuntu bionic/universe amd64 libglew-dev amd64 2.0.0-5 [120 kB]\n",
            "Get:4 http://archive.ubuntu.com/ubuntu bionic-updates/main amd64 libosmesa6 amd64 20.0.8-0ubuntu1~18.04.1 [2,641 kB]\n",
            "Get:5 http://archive.ubuntu.com/ubuntu bionic-updates/main amd64 libosmesa6-dev amd64 20.0.8-0ubuntu1~18.04.1 [8,828 B]\n",
            "Fetched 2,916 kB in 2s (1,581 kB/s)\n",
            "Selecting previously unselected package libgl1-mesa-glx:amd64.\n",
            "(Reading database ... 155202 files and directories currently installed.)\n",
            "Preparing to unpack .../libgl1-mesa-glx_20.0.8-0ubuntu1~18.04.1_amd64.deb ...\n",
            "Unpacking libgl1-mesa-glx:amd64 (20.0.8-0ubuntu1~18.04.1) ...\n",
            "Selecting previously unselected package libglew2.0:amd64.\n",
            "Preparing to unpack .../libglew2.0_2.0.0-5_amd64.deb ...\n",
            "Unpacking libglew2.0:amd64 (2.0.0-5) ...\n",
            "Selecting previously unselected package libglew-dev:amd64.\n",
            "Preparing to unpack .../libglew-dev_2.0.0-5_amd64.deb ...\n",
            "Unpacking libglew-dev:amd64 (2.0.0-5) ...\n",
            "Selecting previously unselected package libosmesa6:amd64.\n",
            "Preparing to unpack .../libosmesa6_20.0.8-0ubuntu1~18.04.1_amd64.deb ...\n",
            "Unpacking libosmesa6:amd64 (20.0.8-0ubuntu1~18.04.1) ...\n",
            "Selecting previously unselected package libosmesa6-dev:amd64.\n",
            "Preparing to unpack .../libosmesa6-dev_20.0.8-0ubuntu1~18.04.1_amd64.deb ...\n",
            "Unpacking libosmesa6-dev:amd64 (20.0.8-0ubuntu1~18.04.1) ...\n",
            "Setting up libosmesa6:amd64 (20.0.8-0ubuntu1~18.04.1) ...\n",
            "Setting up libgl1-mesa-glx:amd64 (20.0.8-0ubuntu1~18.04.1) ...\n",
            "Setting up libglew2.0:amd64 (2.0.0-5) ...\n",
            "Setting up libglew-dev:amd64 (2.0.0-5) ...\n",
            "Setting up libosmesa6-dev:amd64 (20.0.8-0ubuntu1~18.04.1) ...\n",
            "Processing triggers for libc-bin (2.27-3ubuntu1.3) ...\n",
            "/sbin/ldconfig.real: /usr/local/lib/python3.7/dist-packages/ideep4py/lib/libmkldnn.so.0 is not a symbolic link\n",
            "\n",
            "Reading package lists... Done\n",
            "Building dependency tree       \n",
            "Reading state information... Done\n",
            "The following packages were automatically installed and are no longer required:\n",
            "  libnvidia-common-460 nsight-compute-2020.2.0\n",
            "Use 'apt autoremove' to remove them.\n",
            "The following NEW packages will be installed:\n",
            "  patchelf\n",
            "0 upgraded, 1 newly installed, 0 to remove and 42 not upgraded.\n",
            "Need to get 46.5 kB of archives.\n",
            "After this operation, 130 kB of additional disk space will be used.\n",
            "Get:1 http://archive.ubuntu.com/ubuntu bionic/universe amd64 patchelf amd64 0.9-1 [46.5 kB]\n",
            "Fetched 46.5 kB in 1s (64.3 kB/s)\n",
            "Selecting previously unselected package patchelf.\n",
            "(Reading database ... 155240 files and directories currently installed.)\n",
            "Preparing to unpack .../patchelf_0.9-1_amd64.deb ...\n",
            "Unpacking patchelf (0.9-1) ...\n",
            "Setting up patchelf (0.9-1) ...\n",
            "Processing triggers for man-db (2.8.3-2ubuntu0.1) ...\n"
          ]
        }
      ],
      "source": [
        "# !apt-get install -y \\\n",
        "#     libgl1-mesa-dev \\\n",
        "#     libgl1-mesa-glx \\\n",
        "#     libglew-dev \\\n",
        "#     libosmesa6-dev \\\n",
        "#     software-properties-common\n",
        "\n",
        "# !apt-get install -y patchelf"
      ]
    },
    {
      "cell_type": "markdown",
      "metadata": {
        "id": "ppxv6Mdkalbc"
      },
      "source": [
        "Clone repo and install dependencies"
      ]
    },
    {
      "cell_type": "code",
      "execution_count": 2,
      "metadata": {
        "colab": {
          "base_uri": "https://localhost:8080/",
          "height": 1000
        },
        "id": "mgQA_XN-XGY2",
        "outputId": "33efe14b-2d12-49af-e668-1a7e3bab363e"
      },
      "outputs": [
        {
          "name": "stdout",
          "output_type": "stream",
          "text": [
            "/content\n",
            "  % Total    % Received % Xferd  Average Speed   Time    Time     Time  Current\n",
            "                                 Dload  Upload   Total   Spent    Left  Speed\n",
            "100   136    0   136    0     0    116      0 --:--:--  0:00:01 --:--:--   116\n",
            "100   363  100   363    0     0    215      0  0:00:01  0:00:01 --:--:--     0\n",
            "100  592M  100  592M    0     0  9162k      0  0:01:06  0:01:06 --:--:-- 10.9M\n",
            "/content/diffuser\n",
            "Looking in links: https://download.pytorch.org/whl/torch_stable.html\n",
            "Collecting git+https://github.com/JannerM/d4rl.git@0e84a4d29db3ae501043215ce1d91843929f1949\n",
            "  Cloning https://github.com/JannerM/d4rl.git (to revision 0e84a4d29db3ae501043215ce1d91843929f1949) to /tmp/pip-req-build-pq9yl80t\n",
            "  Running command git clone -q https://github.com/JannerM/d4rl.git /tmp/pip-req-build-pq9yl80t\n",
            "  Running command git rev-parse -q --verify 'sha^0e84a4d29db3ae501043215ce1d91843929f1949'\n",
            "  Running command git fetch -q https://github.com/JannerM/d4rl.git 0e84a4d29db3ae501043215ce1d91843929f1949\n",
            "  Running command git checkout -q 0e84a4d29db3ae501043215ce1d91843929f1949\n",
            "Collecting git+https://github.com/aravindr93/mjrl\n",
            "  Cloning https://github.com/aravindr93/mjrl to /tmp/pip-req-build-4ckkigtm\n",
            "  Running command git clone -q https://github.com/aravindr93/mjrl /tmp/pip-req-build-4ckkigtm\n",
            "Collecting typed-argument-parser\n",
            "  Downloading typed-argument-parser-1.7.2.tar.gz (27 kB)\n",
            "Collecting scikit-image==0.17.2\n",
            "  Downloading scikit_image-0.17.2-cp37-cp37m-manylinux1_x86_64.whl (12.5 MB)\n",
            "\u001b[K     |████████████████████████████████| 12.5 MB 15.6 MB/s \n",
            "\u001b[?25hCollecting scikit-video==1.1.11\n",
            "  Downloading scikit_video-1.1.11-py2.py3-none-any.whl (2.3 MB)\n",
            "\u001b[K     |████████████████████████████████| 2.3 MB 18.6 MB/s \n",
            "\u001b[?25hCollecting gitpython\n",
            "  Downloading GitPython-3.1.27-py3-none-any.whl (181 kB)\n",
            "\u001b[K     |████████████████████████████████| 181 kB 76.1 MB/s \n",
            "\u001b[?25hCollecting einops\n",
            "  Downloading einops-0.4.1-py3-none-any.whl (28 kB)\n",
            "Requirement already satisfied: pillow in /usr/local/lib/python3.7/dist-packages (7.1.2)\n",
            "Collecting free-mujoco-py\n",
            "  Downloading free_mujoco_py-2.1.6-py3-none-any.whl (14.1 MB)\n",
            "\u001b[K     |████████████████████████████████| 14.1 MB 24.7 MB/s \n",
            "\u001b[?25hRequirement already satisfied: gym in /usr/local/lib/python3.7/dist-packages (0.17.3)\n",
            "Requirement already satisfied: numpy in /usr/local/lib/python3.7/dist-packages (from d4rl==1.1) (1.21.6)\n",
            "Collecting pybullet\n",
            "  Downloading pybullet-3.2.4-cp37-cp37m-manylinux_2_5_x86_64.manylinux1_x86_64.whl (91.7 MB)\n",
            "\u001b[K     |████████████████████████████████| 91.7 MB 1.2 MB/s \n",
            "\u001b[?25hRequirement already satisfied: h5py in /usr/local/lib/python3.7/dist-packages (from d4rl==1.1) (3.1.0)\n",
            "Requirement already satisfied: termcolor in /usr/local/lib/python3.7/dist-packages (from d4rl==1.1) (1.1.0)\n",
            "Requirement already satisfied: click in /usr/local/lib/python3.7/dist-packages (from d4rl==1.1) (7.1.2)\n",
            "Requirement already satisfied: scipy>=1.0.1 in /usr/local/lib/python3.7/dist-packages (from scikit-image==0.17.2) (1.4.1)\n",
            "Requirement already satisfied: imageio>=2.3.0 in /usr/local/lib/python3.7/dist-packages (from scikit-image==0.17.2) (2.4.1)\n",
            "Requirement already satisfied: matplotlib!=3.0.0,>=2.0.0 in /usr/local/lib/python3.7/dist-packages (from scikit-image==0.17.2) (3.2.2)\n",
            "Requirement already satisfied: tifffile>=2019.7.26 in /usr/local/lib/python3.7/dist-packages (from scikit-image==0.17.2) (2021.11.2)\n",
            "Requirement already satisfied: PyWavelets>=1.1.1 in /usr/local/lib/python3.7/dist-packages (from scikit-image==0.17.2) (1.3.0)\n",
            "Requirement already satisfied: networkx>=2.0 in /usr/local/lib/python3.7/dist-packages (from scikit-image==0.17.2) (2.6.3)\n",
            "Requirement already satisfied: python-dateutil>=2.1 in /usr/local/lib/python3.7/dist-packages (from matplotlib!=3.0.0,>=2.0.0->scikit-image==0.17.2) (2.8.2)\n",
            "Requirement already satisfied: kiwisolver>=1.0.1 in /usr/local/lib/python3.7/dist-packages (from matplotlib!=3.0.0,>=2.0.0->scikit-image==0.17.2) (1.4.2)\n",
            "Requirement already satisfied: cycler>=0.10 in /usr/local/lib/python3.7/dist-packages (from matplotlib!=3.0.0,>=2.0.0->scikit-image==0.17.2) (0.11.0)\n",
            "Requirement already satisfied: pyparsing!=2.0.4,!=2.1.2,!=2.1.6,>=2.0.1 in /usr/local/lib/python3.7/dist-packages (from matplotlib!=3.0.0,>=2.0.0->scikit-image==0.17.2) (3.0.8)\n",
            "Requirement already satisfied: typing-extensions in /usr/local/lib/python3.7/dist-packages (from kiwisolver>=1.0.1->matplotlib!=3.0.0,>=2.0.0->scikit-image==0.17.2) (4.2.0)\n",
            "Requirement already satisfied: six>=1.5 in /usr/local/lib/python3.7/dist-packages (from python-dateutil>=2.1->matplotlib!=3.0.0,>=2.0.0->scikit-image==0.17.2) (1.15.0)\n",
            "Collecting typing-inspect>=0.7.1\n",
            "  Downloading typing_inspect-0.7.1-py3-none-any.whl (8.4 kB)\n",
            "Collecting mypy-extensions>=0.3.0\n",
            "  Downloading mypy_extensions-0.4.3-py2.py3-none-any.whl (4.5 kB)\n",
            "Collecting gitdb<5,>=4.0.1\n",
            "  Downloading gitdb-4.0.9-py3-none-any.whl (63 kB)\n",
            "\u001b[K     |████████████████████████████████| 63 kB 2.3 MB/s \n",
            "\u001b[?25hCollecting smmap<6,>=3.0.1\n",
            "  Downloading smmap-5.0.0-py3-none-any.whl (24 kB)\n",
            "Collecting imageio>=2.3.0\n",
            "  Downloading imageio-2.19.0-py3-none-any.whl (3.4 MB)\n",
            "\u001b[K     |████████████████████████████████| 3.4 MB 57.1 MB/s \n",
            "\u001b[?25hCollecting fasteners==0.15\n",
            "  Downloading fasteners-0.15-py2.py3-none-any.whl (23 kB)\n",
            "Requirement already satisfied: Cython<0.30.0,>=0.29.24 in /usr/local/lib/python3.7/dist-packages (from free-mujoco-py) (0.29.28)\n",
            "Collecting glfw<2.0.0,>=1.4.0\n",
            "  Downloading glfw-1.12.0-py2.py27.py3.py30.py31.py32.py33.py34.py35.py36.py37.py38-none-manylinux2014_x86_64.whl (203 kB)\n",
            "\u001b[K     |████████████████████████████████| 203 kB 79.5 MB/s \n",
            "\u001b[?25hRequirement already satisfied: cffi<2.0.0,>=1.15.0 in /usr/local/lib/python3.7/dist-packages (from free-mujoco-py) (1.15.0)\n",
            "Collecting monotonic>=0.1\n",
            "  Downloading monotonic-1.6-py2.py3-none-any.whl (8.2 kB)\n",
            "Requirement already satisfied: pycparser in /usr/local/lib/python3.7/dist-packages (from cffi<2.0.0,>=1.15.0->free-mujoco-py) (2.21)\n",
            "Collecting pillow\n",
            "  Downloading Pillow-9.1.0-cp37-cp37m-manylinux_2_17_x86_64.manylinux2014_x86_64.whl (4.3 MB)\n",
            "\u001b[K     |████████████████████████████████| 4.3 MB 61.8 MB/s \n",
            "\u001b[?25hRequirement already satisfied: cloudpickle<1.7.0,>=1.2.0 in /usr/local/lib/python3.7/dist-packages (from gym) (1.3.0)\n",
            "Requirement already satisfied: pyglet<=1.5.0,>=1.4.0 in /usr/local/lib/python3.7/dist-packages (from gym) (1.5.0)\n",
            "Requirement already satisfied: future in /usr/local/lib/python3.7/dist-packages (from pyglet<=1.5.0,>=1.4.0->gym) (0.16.0)\n",
            "Requirement already satisfied: cached-property in /usr/local/lib/python3.7/dist-packages (from h5py->d4rl==1.1) (1.5.2)\n",
            "Building wheels for collected packages: d4rl, mjrl, typed-argument-parser\n",
            "  Building wheel for d4rl (setup.py) ... \u001b[?25l\u001b[?25hdone\n",
            "  Created wheel for d4rl: filename=d4rl-1.1-py3-none-any.whl size=26430244 sha256=f4edc40955e74e3dac65c500492677ffbc4e9c52e310f9c80e25dccbfac860b5\n",
            "  Stored in directory: /root/.cache/pip/wheels/7a/48/5b/c2af87ab3ed2be7b7eecba2080445bc186087faf636158b1ef\n",
            "  Building wheel for mjrl (setup.py) ... \u001b[?25l\u001b[?25hdone\n",
            "  Created wheel for mjrl: filename=mjrl-1.0.0-py3-none-any.whl size=61954 sha256=fa297e381b893284a0900f20ef5c974b6e65582bfe7bca20f498de236c571d6c\n",
            "  Stored in directory: /tmp/pip-ephem-wheel-cache-v28qcu46/wheels/72/c5/f4/71f9c056c6fa6159709bca124ececb3f083b2a48fe09d5ab30\n",
            "  Building wheel for typed-argument-parser (setup.py) ... \u001b[?25l\u001b[?25hdone\n",
            "  Created wheel for typed-argument-parser: filename=typed_argument_parser-1.7.2-py3-none-any.whl size=22701 sha256=db918139f5f9766dd17fcc4a221c8f8dc1a116ba31beffbf4cbf3b2c7d781a71\n",
            "  Stored in directory: /root/.cache/pip/wheels/ab/9e/09/716b41e56484cac4752e0a6f5a2526ea439c4474bcf5032a7c\n",
            "Successfully built d4rl mjrl typed-argument-parser\n",
            "Installing collected packages: smmap, pillow, mypy-extensions, monotonic, typing-inspect, pybullet, imageio, glfw, gitdb, fasteners, typed-argument-parser, scikit-video, scikit-image, mjrl, gitpython, free-mujoco-py, einops, d4rl\n",
            "  Attempting uninstall: pillow\n",
            "    Found existing installation: Pillow 7.1.2\n",
            "    Uninstalling Pillow-7.1.2:\n",
            "      Successfully uninstalled Pillow-7.1.2\n",
            "  Attempting uninstall: imageio\n",
            "    Found existing installation: imageio 2.4.1\n",
            "    Uninstalling imageio-2.4.1:\n",
            "      Successfully uninstalled imageio-2.4.1\n",
            "  Attempting uninstall: scikit-image\n",
            "    Found existing installation: scikit-image 0.18.3\n",
            "    Uninstalling scikit-image-0.18.3:\n",
            "      Successfully uninstalled scikit-image-0.18.3\n",
            "\u001b[31mERROR: pip's dependency resolver does not currently take into account all the packages that are installed. This behaviour is the source of the following dependency conflicts.\n",
            "albumentations 0.1.12 requires imgaug<0.2.7,>=0.2.5, but you have imgaug 0.2.9 which is incompatible.\u001b[0m\n",
            "Successfully installed d4rl-1.1 einops-0.4.1 fasteners-0.15 free-mujoco-py-2.1.6 gitdb-4.0.9 gitpython-3.1.27 glfw-1.12.0 imageio-2.19.0 mjrl-1.0.0 monotonic-1.6 mypy-extensions-0.4.3 pillow-9.1.0 pybullet-3.2.4 scikit-image-0.17.2 scikit-video-1.1.11 smmap-5.0.0 typed-argument-parser-1.7.2 typing-inspect-0.7.1\n"
          ]
        },
        {
          "data": {
            "application/vnd.colab-display-data+json": {
              "pip_warning": {
                "packages": [
                  "PIL"
                ]
              }
            }
          },
          "metadata": {},
          "output_type": "display_data"
        },
        {
          "name": "stdout",
          "output_type": "stream",
          "text": [
            "Obtaining file:///content/diffuser\n",
            "Installing collected packages: diffuser\n",
            "  Running setup.py develop for diffuser\n",
            "Successfully installed diffuser-0.0.0\n"
          ]
        }
      ],
      "source": [
        "# %cd /content\n",
        "\n",
        "# ## TODO: use when repo is public\n",
        "# # !git clone https://github.com/jannerm/diffuser.git\n",
        "# ## backup for private repo\n",
        "# !curl -L -o diffuser.zip https://www.dropbox.com/s/fe1scd8m2jf7zvj/diffuser.tar?dl=1\n",
        "# !tar -xf diffuser.zip\n",
        "# ## /TODO\n",
        "\n",
        "# %cd diffuser\n",
        "# %pip install -f https://download.pytorch.org/whl/torch_stable.html \\\n",
        "#                 typed-argument-parser \\\n",
        "#                 scikit-image==0.17.2 \\\n",
        "#                 scikit-video==1.1.11 \\\n",
        "#                 gitpython \\\n",
        "#                 einops \\\n",
        "#                 pillow \\\n",
        "#                 free-mujoco-py \\\n",
        "#                 gym \\\n",
        "#                 git+https://github.com/JannerM/d4rl.git@0e84a4d29db3ae501043215ce1d91843929f1949 \\\n",
        "#                 git+https://github.com/aravindr93/mjrl\n",
        "\n",
        "# %pip install -e ."
      ]
    },
    {
      "cell_type": "code",
      "execution_count": 1,
      "metadata": {
        "colab": {
          "base_uri": "https://localhost:8080/"
        },
        "id": "rFVGxWIuVj5F",
        "outputId": "b0fde36e-b724-4c8c-c40a-3828a72ea943"
      },
      "outputs": [
        {
          "name": "stderr",
          "output_type": "stream",
          "text": [
            "/home/geoka/miniconda3/envs/diffuser/lib/python3.8/site-packages/tqdm/auto.py:21: TqdmWarning: IProgress not found. Please update jupyter and ipywidgets. See https://ipywidgets.readthedocs.io/en/stable/user_install.html\n",
            "  from .autonotebook import tqdm as notebook_tqdm\n",
            "pybullet build time: Nov 28 2023 23:51:11\n"
          ]
        }
      ],
      "source": [
        "## cythonize mujoco-py at first import\n",
        "import diffuser.utils as utils\n",
        "\n",
        "# import importlib\n",
        "# importlib.reload(utils.colab)"
      ]
    },
    {
      "cell_type": "markdown",
      "metadata": {
        "id": "0qKnJbCXssgw"
      },
      "source": [
        "### Conditional sampling"
      ]
    },
    {
      "cell_type": "code",
      "execution_count": 18,
      "metadata": {
        "id": "1PWx-SaieF74"
      },
      "outputs": [],
      "source": [
        "class Args:\n",
        "  loadpath = '/home/geoka/Desktop/neuro/diffuser/logs/pretrained/hopper-medium-expert-v2/diffusion/defaults_H32_T20'\n",
        "  diffusion_epoch = 'latest'\n",
        "  n_samples = 4\n",
        "  device = 'cuda:0'\n",
        "    \n",
        "args = Args()"
      ]
    },
    {
      "cell_type": "markdown",
      "metadata": {
        "id": "_PnSBgUVVnNq"
      },
      "source": [
        "Load diffusion model from disk"
      ]
    },
    {
      "cell_type": "code",
      "execution_count": 19,
      "metadata": {
        "colab": {
          "base_uri": "https://localhost:8080/"
        },
        "id": "v-qLxTlKbm7d",
        "outputId": "fbcba444-8f72-4d36-b306-b53273047caa"
      },
      "outputs": [
        {
          "name": "stdout",
          "output_type": "stream",
          "text": [
            "[ utils/serialization ] Loaded config from /home/geoka/Desktop/neuro/diffuser/logs/pretrained/hopper-medium-expert-v2/diffusion/defaults_H32_T20/dataset_config.pkl\n",
            "\n",
            "[utils/config ] Config: <class 'diffuser.datasets.sequence.SequenceDataset'>\n",
            "    env: hopper-medium-expert-v2\n",
            "    horizon: 32\n",
            "    max_path_length: 1000\n",
            "    normalizer: GaussianNormalizer\n",
            "    preprocess_fns: []\n",
            "    use_padding: True\n",
            "\n",
            "[ utils/serialization ] Loaded config from /home/geoka/Desktop/neuro/diffuser/logs/pretrained/hopper-medium-expert-v2/diffusion/defaults_H32_T20/render_config.pkl\n",
            "\n",
            "[utils/config ] Config: <class 'diffuser.utils.rendering.MuJoCoRenderer'>\n",
            "    env: hopper-medium-expert-v2\n",
            "\n",
            "[ utils/serialization ] Loaded config from /home/geoka/Desktop/neuro/diffuser/logs/pretrained/hopper-medium-expert-v2/diffusion/defaults_H32_T20/model_config.pkl\n",
            "\n",
            "[utils/config ] Config: <class 'diffuser.models.temporal.TemporalUnet'>\n",
            "    attention: False\n",
            "    cond_dim: 11\n",
            "    dim_mults: (1, 2, 4, 8)\n",
            "    horizon: 32\n",
            "    transition_dim: 14\n",
            "\n",
            "[ utils/serialization ] Loaded config from /home/geoka/Desktop/neuro/diffuser/logs/pretrained/hopper-medium-expert-v2/diffusion/defaults_H32_T20/diffusion_config.pkl\n",
            "\n",
            "[utils/config ] Config: <class 'diffuser.models.diffusion.GaussianDiffusion'>\n",
            "    action_dim: 3\n",
            "    action_weight: 10\n",
            "    clip_denoised: False\n",
            "    horizon: 32\n",
            "    loss_discount: 1\n",
            "    loss_type: l2\n",
            "    loss_weights: None\n",
            "    n_timesteps: 20\n",
            "    observation_dim: 11\n",
            "    predict_epsilon: False\n",
            "\n",
            "[ utils/serialization ] Loaded config from /home/geoka/Desktop/neuro/diffuser/logs/pretrained/hopper-medium-expert-v2/diffusion/defaults_H32_T20/trainer_config.pkl\n",
            "\n",
            "[utils/config ] Config: <class 'diffuser.utils.training.Trainer'>\n",
            "    bucket: None\n",
            "    ema_decay: 0.995\n",
            "    gradient_accumulate_every: 2\n",
            "    label_freq: 200000\n",
            "    n_reference: 8\n",
            "    results_folder: /home/logs/diffuser-singularity/logs/hopper-medium-expert-v2/diffusion/defaults_H32_T20\n",
            "    sample_freq: 20000\n",
            "    save_freq: 20000\n",
            "    save_parallel: False\n",
            "    train_batch_size: 32\n",
            "    train_lr: 0.0002\n",
            "\n"
          ]
        },
        {
          "name": "stderr",
          "output_type": "stream",
          "text": [
            "load datafile:   0%|          | 0/9 [00:00<?, ?it/s]"
          ]
        },
        {
          "name": "stderr",
          "output_type": "stream",
          "text": [
            "load datafile: 100%|██████████| 9/9 [00:02<00:00,  4.26it/s]\n"
          ]
        },
        {
          "name": "stdout",
          "output_type": "stream",
          "text": [
            "[ datasets/buffer ] Finalized replay buffer | 3213 episodes\n",
            "[ datasets/buffer ] Fields:\n",
            "    actions: (3213, 1000, 3)\n",
            "    infos/action_log_probs: (3213, 1000, 1)\n",
            "    infos/qpos: (3213, 1000, 6)\n",
            "    infos/qvel: (3213, 1000, 6)\n",
            "    next_observations: (3213, 1000, 11)\n",
            "    observations: (3213, 1000, 11)\n",
            "    rewards: (3213, 1000, 1)\n",
            "    terminals: (3213, 1000, 1)\n",
            "    timeouts: (3213, 1000, 1)\n",
            "    normed_observations: (3213, 1000, 11)\n",
            "    normed_actions: (3213, 1000, 3)\n",
            "[ models/temporal ] Channel dimensions: [(14, 32), (32, 64), (64, 128), (128, 256)]\n",
            "[(14, 32), (32, 64), (64, 128), (128, 256)]\n",
            "\n",
            "[ utils/serialization ] Loading model epoch: 800000\n",
            "\n"
          ]
        }
      ],
      "source": [
        "diffusion_experiment = utils.load_diffusion(\n",
        "    args.loadpath, epoch=args.diffusion_epoch)\n",
        "\n",
        "dataset = diffusion_experiment.dataset\n",
        "renderer = diffusion_experiment.renderer\n",
        "model = diffusion_experiment.trainer.ema_model"
      ]
    },
    {
      "cell_type": "markdown",
      "metadata": {
        "id": "R0CRaEtNVq8C"
      },
      "source": [
        "Initialize environment"
      ]
    },
    {
      "cell_type": "code",
      "execution_count": 4,
      "metadata": {
        "id": "ouwBQMBcBXL7"
      },
      "outputs": [],
      "source": [
        "env = dataset.env\n",
        "obs = env.reset()"
      ]
    },
    {
      "cell_type": "markdown",
      "metadata": {
        "id": "Bw2wObJOVt-l"
      },
      "source": [
        "Run reverse diffusion"
      ]
    },
    {
      "cell_type": "code",
      "execution_count": 5,
      "metadata": {
        "colab": {
          "base_uri": "https://localhost:8080/"
        },
        "id": "Y5xB7bx2COcg",
        "outputId": "3f693a7e-fa6c-4c9f-da90-1f255767005c"
      },
      "outputs": [
        {
          "name": "stdout",
          "output_type": "stream",
          "text": [
            "(21, 4, 32, 11)\n"
          ]
        }
      ],
      "source": [
        "observations = utils.colab.run_diffusion(\n",
        "    model, dataset, obs, args.n_samples, args.device)\n",
        "print(observations.shape)"
      ]
    },
    {
      "cell_type": "markdown",
      "metadata": {
        "id": "OhHZC48kVxGM"
      },
      "source": [
        "Render the samples"
      ]
    },
    {
      "cell_type": "code",
      "execution_count": 17,
      "metadata": {
        "colab": {
          "base_uri": "https://localhost:8080/",
          "height": 221
        },
        "id": "3g8N_n8VRLPs",
        "outputId": "04457496-357d-4700-e722-e06a4944511f"
      },
      "outputs": [
        {
          "data": {
            "text/html": [
              "<video alt=\"test\" autoplay \n",
              "              loop controls style=\"height: 200px;\">\n",
              "              <source src=\"data:video/mp4;base64,AAAAIGZ0eXBpc29tAAACAGlzb21pc28yYXZjMW1wNDEAAAAIZnJlZQAAKpJtZGF0AAACrgYF//+q3EXpvebZSLeWLNgg2SPu73gyNjQgLSBjb3JlIDE2MyByMzA2MCA1ZGI2YWE2IC0gSC4yNjQvTVBFRy00IEFWQyBjb2RlYyAtIENvcHlsZWZ0IDIwMDMtMjAyMSAtIGh0dHA6Ly93d3cudmlkZW9sYW4ub3JnL3gyNjQuaHRtbCAtIG9wdGlvbnM6IGNhYmFjPTEgcmVmPTMgZGVibG9jaz0xOjA6MCBhbmFseXNlPTB4MzoweDExMyBtZT1oZXggc3VibWU9NyBwc3k9MSBwc3lfcmQ9MS4wMDowLjAwIG1peGVkX3JlZj0xIG1lX3JhbmdlPTE2IGNocm9tYV9tZT0xIHRyZWxsaXM9MSA4eDhkY3Q9MSBjcW09MCBkZWFkem9uZT0yMSwxMSBmYXN0X3Bza2lwPTEgY2hyb21hX3FwX29mZnNldD0tMiB0aHJlYWRzPTYgbG9va2FoZWFkX3RocmVhZHM9MSBzbGljZWRfdGhyZWFkcz0wIG5yPTAgZGVjaW1hdGU9MSBpbnRlcmxhY2VkPTAgYmx1cmF5X2NvbXBhdD0wIGNvbnN0cmFpbmVkX2ludHJhPTAgYmZyYW1lcz0zIGJfcHlyYW1pZD0yIGJfYWRhcHQ9MSBiX2JpYXM9MCBkaXJlY3Q9MSB3ZWlnaHRiPTEgb3Blbl9nb3A9MCB3ZWlnaHRwPTIga2V5aW50PTI1MCBrZXlpbnRfbWluPTI1IHNjZW5lY3V0PTQwIGludHJhX3JlZnJlc2g9MCByY19sb29rYWhlYWQ9NDAgcmM9Y3JmIG1idHJlZT0xIGNyZj0yMy4wIHFjb21wPTAuNjAgcXBtaW49MCBxcG1heD02OSBxcHN0ZXA9NCBpcF9yYXRpbz0xLjQwIGFxPTE6MS4wMACAAAAExmWIhAAv//72rvzLK0cLlS4dWXuzUfLoSXL9iDB9aAAAAwAAAwAAAwAADZdOAbNHSM21SAAAAwAAacAFdeStAGDubDvUH4AWrUv/MUoK19Bpr2fqzItanWRRAELdqvWe48RyMePYRhzSliKUhy1bFhbr/U5ScbfGykHDAaLxJMpTR2X8HxKAGUFBGI6THYqxDXRFpRPlCEowNg1vMXi5/fCTwccTkDLDL0ZJgspDpyeeGvMDhItYDcNY2INUYUDcdV91cgSijEXfSRdvcEtbHuy27aWL6XwEJD3c57a1jaZ9/QojndLdPYvqeriuuhmUM2lQJguh5Pjz7mIjpwKcRRPIT8mN8KmnVhFjqcsiIvCAa6c945ZZHZJeR/Z4LyJqtfgV6SnVty2Hv5+sIn8isYWCqEkDdvBWzoAJuBd6YAyGxcrfi9Jk1OBzSrnp7CAMpsiKLyyon/m5HaBRiwdvjdCs9sCX8f+VLVsoBG3LC1xGP9gcZVLZa6RwF5hzRxG3aA4T2XqfuVX2ZvZnkY/e9qEmPJ99Kck30eHajR/xyFrgWDD77CPFJL5MxxCegO4Tnx4A1jvpvKFZkuVRFtjABcVWsuaDJ3C3QABTpvTp4SE1RwivUjAUIObdYEBhDMYvVeFvek2XQz12lL57TUHtcVq/yCc0wEoIZ+mWgBtbb1oqeQ2yruK9mHbqrj7VOt07n4w8U82bhAQEnnroEOxChszffpmmrmPu9O4bq3IpAzRzKN9brFpWMQNCvgduN6NiQF9AGZM50B/nnw2dbWLTQ7Rfv/c3ZE42hnYO0oosDeVjzLzP7W0P9i2QdIOUxl0KRmoLzOvSMjqglTyi5Q/B3S37AJXe2NKo2WIpDGXDDla05mWLAWeygq5/Gpffp3d0JsXjhu3iH/b+IM/W05Z42Q8BCN1h1i/9hnC/rEpT9h0YkYl47GIQnqhtDNmtMXUiZwiFojUn5FfGtyFSTINudbyOSkMCaggZDIEwrFLHAoGvdhxnHBigXW+Nn7Rdi3TXzJ0o3whfbw2UgvAN4NO4+ugivzF9JciA/hHh9wUqU+RoJXaJWF7OURoqVOGx0df+/TNQVBUs0XGxMIoLfRaO6eKhf81hblQ2nxptlDyK0T3JmJnwddj70mfBo87tdGorIe1QROwTzKQDpBRVNYel8gxrT0jidW6dNz2zHWLRO1CNhDUNtQZcwxrlGT7GV92/knDuJffnQi4hgQ1HrC55B+58N12/iZ08UFEvZZ9euqkJHIzP5KGy6OG8OdXalX7ZsqE7RGASiswmW3636XBPjcFaEoXaWl9J2nsX3c04AEhMX4+0fB0lQRwdzOPaReCXiwzdBcK7RzKMqIkyq6+RcH67eKOHADgdFBGtoEd8X+dfQKuIRNdwyf8t0fg1IuLhfYnUesLnkjyi5mZlnmJuDkTGDeqiC0SS6+FnCQMQ8KC4M4xtox+Pbtvx7Ay1sbdtQFdFk4DP4jRRleaWmh5qp5Tp7nOYMsMmor29Yx75cxWDfRvYZ8lm16SpC8cqMqIZk0wRxfUf2QJZ3GYNIHo9fLHCAM3Hd512sV2KCo8tt09UOABLHELCTByqEbFpMejoY+9l6JQGtNFtgAwAAAMAAAMAAAMAAZ0AAAI8QZokbEL//oywAAjDENYD/wSZ0cfwHDzkAI9KIXXB/FjXmDLWDAOX5QixqyKnUiq1R58Cj4LJBBwINCyKNUX4DDMjbuntPuVwsveWZWMVzdvIFFpodBgRdcejyhEuKL88VHoVRXzSJjk3lHaIwKZMmCWgs8nEyex0uKdycDpb8iEyJ4HhHCjLu0yc68EGsbXN4dd7fR+4CsxIi36L44qSiFzrun+mJl/kbsH/vWympH32Q7HmxPJWL3/9YCfiFxB4FcxUurgMyc2k8UKfI+yNhvpjya9iP1bnacC6ZZ791XEc44SrDnZ9kxN4BXaxUZ80a4hND13XIloni/zWzWhAd/fT99USIqGhM1DYav/waLSNA6INBhALhZzgSgNkGBpyeiHOygTbAPP9ary/sVa1saH9z58usXdBTqtRPsplIkk3nBbLwd3M5lQTVgWZUaIy4+MqRgJfl4YloeQgzDRTayc5HzZBAhu8OdJFsqWi2BWOFK0DPvk412ZwgXgHY2AJ1Xd93ddLNmMGcZHJNpat1Q+hptgcqqQSFjIk5zrfccJdRxON6bxnzfoHPhNHpCgHEGBcjwDljp2dDJZG4ehnBLQmIiSpkXc4xcQb9sSDckvK5N+IBE8HWk+6e6O+Z4CTlQNy8sZOdGC2Xy2d3lRx4a8TdosJ45Gnp4REfdTfYQRR2MKoIObsxLHNJ7cW8VQ0XHkclZh/XQPH8fpz6qDDUmgN/Abr+pKV6CxY+oGs7Z/siJtHeCS3DkqbVcAAAADoQZ5CeIR/AALE/r4HYYFpiAl5DlzZpRIFWOMQryAEJsh8E4H9E6c2A9Th9cwoFmKnemrKAyJ8Iuwd+Pa7buE91tq22Gpgz85HARtWqWuwzm+NSgs9p44t5a2uMcnciJqOa5zBblwyhGQoD8WoeaH982SCrl/7JMCaUFnBE3kEKRPBpDIs7sbQ4M/8QpjnYHbYN0B4DbKMLlgjRHSmLp+NVLAFI82ByKHfTfnoLhQSiD57d337nosKQRmsLiyBsIpq2xdh65UehpTND07jH0UN/pTANcyUdr+5QhD84o7QIIyIigFmqIB6QQAAAJcBnmF0R/8AAv3L5DrKEC544RLCee+dHI6a98yLICa59Xhg6F5CH9F3ssy5HOI6sVUAHNATBnT3rzyeq2yc6Z8YLGRs1NwdHxsVTASRAqF5J6JgMLmS4dNmFzFkZVpdV6tN7AOisucG6HXxVi4f4Mtb5o1yLe8MiXaJe3MG1ZKSUXj2HwFJD2Uw58nybVIk1k6U5fG4NAZUAAAAQAGeY2pH/wABUSBzgIZc3O/ccVERwmzga+OJWNyIS5d9ZJwoL+JCJu08G3wreajLRI7ykZoVtvVmfe2Zmux+AaMAAAJXQZpoSahBaJlMCF///oywAAjACgtWAFX8jNV1urvSvgFP1cSM1LzCKuvbjiKHdlbea3Pn8A2O6DfFbz/TS5nuF0mRvABudF6GVRY7zhxqZzskABYjaVMsfJ1cuCDkeYbGvrwZWh6hBC9Q0slctjs1kG/xHjVRAJ0XSk01+zlgyk1x25gvH8rm8kVMJWPgcvH+clLs2UYK9xLtGBIL7dTWWT0MVAm9KNVEtLZCem27lv2Mh6+feCVBCnHGqhP/vKZdRf5OsXGMz45L3a11JBF14u3NS27vHpt+FpDST/D/OgD0DohzO63RqWAulYT037rGp31BTyWNd/j465P4qy97jM6XLComH9n/HSrad6WetuZfdlEf2U4SApf5OeuLkJdL4AtK2r9eX5ByyOjimvzhsSGUNlYpw2N7cLsFzHJT8l7Va56WPalH+WgInE0zLpGAF2NYKawhOxDfU7wo0eQq8W4oC9vXWupwRbDabzCg1Idx2UgweADudPl9/WnFKUVqjrGaToT/lxMpe/pD3gr17ED4aLYv04KyDDffUIApilJzDHlRFcQB5TX5md7DZUNFcJDoG2qGvg0h/OWh/gryh55UED5BPRavj8GDxvKc8DdMWwoT84wt8DYzpryFoqxCNuOsO4ZMn3IttQDnrHqnxIsj4nTNBpnEoo2NLWmmMCfOj3yCTWE/LBBssH9mYUe5DJR4Z/GEE31zGuBxrMBFFm+CzZdsV/NPQ9PuoohrHLtnEwEXm598uO6iWEksYSo4mfuPv2ETKNjMz/aL8u24Yi5LNZVP6qEAAACmQZ6GRREsI/8AAtclOu0JNlr8s99IO66/CooZ6LmVcPjxpZ1ZNqJdKg2XN98VACWEJAdmpZP0mrnhsZAFwY9e9RQw2HZeaiN6FxBCWNCwSlcbP2ys3tD+bbo3wU/aAgVzJpZCZxyg4xYpN4hrYCC8an9rha2EfUjMBFeXGNh5uU522ZOsjtvVFiNaObsQnSgaR4GAYjb1TgTnNxIYfxXyU+cCRhICLwAAAH4BnqV0R/8ABHXl+kMCBqh5FggynCC7g/l0l/SoVWUJmQJDAT18To1+SIUFt6YADsgAJQBd2eZazB+LzDNvKsF79L9W2y5QkcrncelsH846Kj7ql9NCIa1FJLssYbZ/CeWKBt1zYWawbSRgXCUxkpyIIBmRL5LyxFWNZBkAYEEAAACYAZ6nakf/AAR3OCpaF/uC4/8UxT1a9Z1nCqK3J5oYDz+i+1UzQAF8lPJlRD+jot4ALTqfndJh/eSZ6P3Iqv/1osgEBSoV5t1jUUTbdMqtfrN/tzrzHhBQjffJzW9UUr8Tatc0eeVF3Nv7zdjDkzSwWWswxTLGBolVRo/Ik7HHtoR2F0D5HE7l8TM8oLNtwN6SNP/3blWALiAAAALmQZqsSahBbJlMCF///oywAAjClX5H9wBVANHbuzVZomzV3ymUbE+u7C00THcFOg7uB0o6LVKnSSFcsnYL7w2g82eV3fDRIxslqbDNs2FNse6C1ZL9kohONgak5Sst5F2bgO8KliMkbGF2IBI5NcLzmA6aSFv4bsDjcoltTy6kfAmx7U8Ax9+tBMAvFOSjQ6F1MWc0r57AAxtUw7SXO8BTkqXMLK30Xy5Y/9FGt14sCcGzf/ESpwtklvNYXBB8H87lQOgD8b3JIXq2AJsfQb82NGzWb/EiKmKgRK5RuIJDGRw/iWVJ9eGigaiOcUsJvMQwFKxIUSjpZWGvKoq/YXDGDKi06kOVlcwgcc+UjofCNsUbHnYIlVZMEhNsNv8THSV/L409dxF25g1uAT4sdkvZVm99sysELrTSoVZIz4m/etMG8vyHHJprqnqtxHxC6LErjqQmwR6tgU/tgxKrJ/eoFMfZ4tWvXAtQHFE/7FKlIGqIv9mmi4wuFkKjWVdInbEKK5mSjNBeGA9rSscRaqaZvVDmZpS7HDzkOlgQzJXbaNfr3wR0MUfABYAY2ry7mojxcGF06/iLEz7d1WuDHb18OyvO4ZtDa4pwon8A8i+R8XpsDDflT/r6nAblvtmxcX8+Nqw7G1xy1U5qGlJqFvvS+OrBYEzHB8c+0ymz7qKroyqifxnHDWjs1po4U/ADNe1A9CcNN7734FEh51moEt9j+7V1gYGeQxfwsXReTMmvAhjSSXIGOo8LlN/pKq9x/70CrSmZe5/QTfkUxj5G/Cs7P54EuOcAy4Vg+lnI03zywB4TVfO1q48xik74VYu4hD3plIZjwnctfMbqHkDt8+y3UYlp7ugeTXOOW+WE5742kytIx3eotW3NaGnu1oOiY6RsH5PvoHCJekAPZgQpo2xyyY768unOXgtmupcT/QUxtD1qTGJSFILnwtzkgr1sdXvRbP+4iXCOMavII7r5i+xkEqgkUcR38gAAAOlBnspFFSwj/wAC17wL829pIiLPZZR4Pybl12xO7JrrggoYvTkc0LowY9frMQ3eXkj2E1aMPAYmUAQAbQj8tEJFiLizvq4DOgAbAwFwaHdQevgpv0KE+ZV6f/cJXdymN1bdg8yg1di7PLUq5SEZeQaMWrZn8A/aBXkqdzTyAfc9YtBvisfbc2wo3NNpt7eubfKroVvVS0mmEXU5Lab8PYGdP4ZVW8r3AELMqWupL8PWZFVaruos/XGvQQRVeysf/zcXtmBMO0GHhJIGA/stGayXz562qz1x3Xg1Duu0qjaBQ0/KCcVhYgBjwQAAAFsBnul0R/8AAfE6iPK2+rvHk5X7OpsoZbXHtGOpXKWMES3d34kgALavkA971bA/+/MTavohmUCPjn1uUMejeAJl3fo3wc9hs9cKDzPvihhYmi5Ynq0iJ4gE4AwIAAAAogGe62pH/wAB5jcPIsyLvnKvvQmja0+ADbl+OKMFDHQXwJZ9H68QDogA5oDc5qmN4Dmce2GUqfapevk/1zqtWAhZFHuGAWJ/in8DEETtXSqVacG4AFEqt9H5Qna55/Uk3kaRtUrnq6IBhysD7qAuLiS3c6uemICMs5GMVm5KEZPNTTu2de9AVvYsJYSNpSHhWBLAtSlsM3J1AVjEkRsn1AAPmAAAAvtBmvBJqEFsmUwIX//+jLAACMCKdMQAN3UH+D1Ssvb9XP2UsajdGFo4JNalEWs+w3M6f85doG7mh3RbgQsHySf7cjqcWA4pvP2eraRz3NjvpZ+Z91P64PeAaV6GXmbN77pMdtPB//o6uL0SuN4LfF0Qji6BY+Kde/D+aAYQql2fFTXN8MrscZJh8ZAo8lcUXCLh+Orv4tuLjeIt40cgM0Vtxj2lkH4rn+fLXM5zFUttIijBzbkLTP4W0XNViybZQTvNUsTB4YscR0DV0LyTK8BRjnXU6eRYUmrYGT/vrzf0I0vJFd2r3RuOnnVK1rQlt3LJ4Ky0De65akovmKB7VPRjnNyi8LyVWNMnao1t92m0TLJWL/ZU2BHDZ3kSf5gTkAJVt27muF5hb/omzYtyDgdIBr9L3ZSeNVmqJ+Bi0zgfzyshZuzbnF/shirsr1OKmu12EowI3T6RGzEnuhpKdX2Bgm+hFZmgPgzWep7KuSJ+jFRLd8IQXPx+b4jTrzVP/PfoynAFz43zM5g0R5FT5jMns9f5x+8TBVwPui/rYYV7P6///0nMykPDxAYmcaOBGWrn4DDx0hq+yJcjFQJHMKZVUzN396Tn2G/UMJTF/quhREu7s+IffPxWjh6wyDwrLJECpQboLtL8aj7zO+RX0Il1amcnk2DAKSuZYY+dTUh417uXhtNbZVBiHUdLTWadawoDPNrL+pBtxvoRT1HoYC3Dd5o5OPk2EIhf5XVsJhzfgmV/g2fKyCeeVRcvD52nlXHmIDZ1M32t61OTmOKhKfjaE/M0ot/w2BOoaUC6vBK2lUoYl+F3Gmv+GrJ3yeOiYSDsTy753KQ0FZFATkp53ISKIHcMvbOgYHl64CulC3Iu6tA9sG3NvTG6omLeND4PR32mhIJv3mRFZYUWCpnci7fUpl1y59MqSyHcsJTuXB0t+LOGw7bmyAVBsY04bE58LKZnQevAdtGtQVYBXEDE15EnmTlToDkCmktTRq+6/3pcrKz3Y+Dfg8fXVyHLAAAA8EGfDkUVLCP/AALYJrtAaRFPRvF8/m9Nqz1mCdUho9h6XJjCsteoRgcWQsNKrw593YG0dlV5giDTQlzC4Nn9iy15P/addoAsgA2XMCZvSa5BPRDwkt10FSml9B2HHGpgqqdIoA80nO2kXZPyWFLX2n8xVmCgqjgYP4AiB4zdaGWuLxaRLEGzc1mnAjp1SbNwFx/QeXDwM2y4RSLN1jiEqQNnhqNWgxo5nhhE3cd2bWO2PSYJaCAb8HSdfPr0+KaoOLzhTUzCb5n+lYkO8s2TPYVMuodfj6T2uybQliJBcjdu+H/W2Q0/RVPoI1o6V1ACTwAAAJwBny10R/8AAuguo8zBtq3RiRr+HQsHTIoDmTktR3QsgLK1n2H70Uq3ZSnI4HzlnwyYSC+p0RtlaF1UAGgj739JYe+5ZRm5a/nmJRnPROfx1HrhKaoxkToXVGUNltr1qbRMtsaYB+zNuhmsgij6EDCdKv1DamRDnMmBogaYCPkgYpoG9Y37EuObIKxjzVJ1l4eZ3QEfLuWXpdMQAzMAAAB+AZ8vakf/AAR4SOPdGajbWaZsp1AW3TRUBvd2Gzb5BqdsCN9duMJzb79/TDpJKUJliUEtgchD5HIAOaA3Ocy8ZN8rFa/xikWyJ5S1TT5SFXyWu5HeHh4j2M4Gt7IR4+ZG5aH+cQAcxWzMaxWVsfx+UoYzSfJ0KCwQzvYMAAoIAAADZ0GbNEmoQWyZTAhX//44QAAhl19Q4EjbOABozJBfo3gnRp4t0GbXbl0ODQfeMAw/3DtkSsymu51aqNslLUoQPaJpn0a7WJJ2vm+mqukv5Vgyh2cIySRTd+LfeHtnvW7eIAqKGiwM9UuiJNwe2MLiiSoHbHxZb7GVEVcKMPArDeKAMWZ1FWoAld/MEUT9vzxnq6EvXCHpLl/u+0CNJxmlBu52yimV07rN4KNYoUclmwUE8dMAlcfm17H36w1YA+3UYNmQvSFIF7AjQltv8sspipbKZLegZX+fpcstHw+guT1ZxgsUh5mjRFDahUfibWNCtgkOhlSh5w6pxmfHCOPqGcK+n2EkKY3YyKq/BeoM5pY3b+Wcsig5pOhijZfJ3WhdY2hkaE0joPsKLEnYfj85v6u1p9XMz1kOFg1DOe6nhKQcASaBL5X/jLZwP6nWVXq1SpfMDYpxsg2Oi1HQ4wot4G08vaXBcE0B1WM13o9Xmo/yxlnWH9GDc8yPSevpmcXLrO98u9mIHXXiVTCc5THF4ZHSZNg/NARXR4k4bJ/+RcDSqk4fexLhtQCrn3MX6MdqeiZvKPv5wkAvVGP+bZTgbj/IyBwbfJiWaVd9FFHF3YCWRmcBqWqEPmvP+yGkqv6ZCaI/hum5sZkByB9EH/iMfJ0USpMEExG/g9h7IqM0JCZBPmLNdMyN8kqMxIIu1ghd6OcIlprxLxRYZ3ko/meZ3PsJuG/TJwEo6IwWdcdQx3AlsERUqhiHLmGfROt8fAVrBFpDZx2uDPB0Q+UFB87UvVZiMYLaYjrNU2NXWdZb8DJC6/+/VU0/Pow83nc/pOkVKFDraj3RDntIY2DS0yxiwt5s8eLhX4sosuqFnJUJxMbe37eAsXUsicCTvVOUbJBAs/LS1Y+gwMfLAfOyE1/yZE15zmZnWV1+rfqiHLBWV7VFzo2DnaPmEzoxdqXVXjKcoLAGwfBgMhS0agV8ZxcfYHPkzKChY43BJQbVZ3pT1s+XC5bBfDRho1s7nTCXoedrtBws0t1LYd4+HeZWAP4C1QzoRBbT6VcPmX9ufb8Pcosy8hEy0pGQz6RbW2oLuenTJmT8TqhLTuZh2sCuNflO0qQZCsyttIYxqnbjN5oYDdt7VWCqIOZ7KKG8iXenpJcDNeJ2qwZ3cq0AAAD2QZ9SRRUsI/8AAc+ndygALp0InHP6cI+oDVeA8ni8P+evj4XQ3avMCz5uhr/CTMJRnA1G6onOrlRH/ioACdFAzIDM7LFk8tAPExkDIBZddqumA8N8ffGsVK5mU4AL+KD26SazTDvStC8OlFHyfwbZzZoJmjAYcmNilDU3bP+o4DxCaZf24WEIV+t8CNZJP1SK97DyEJ7eYxY+0/m3bzbTtICpi6U21KSHWPT6RiP+L7360ww6lZvSZ24SjoOywVOhzHbp2wmNIb7KhZXxXP3afvtEM/2VusSlBvJQAmrFaXnjOooJQHEMUh8ZqtGikGGqGkjKAK2BAAAAbAGfcXRH/wAC/XwT5UrjtZVkklPdmv5t8yUHKX4TrgRI8xh4YW7nINK662PRbLug5ilgQeX/Hp6D0ztzlzvYKUKJpOKEhZvIGMALSLS1AQ8La2T2iW9s354aa0LPMsvtRpLE0xgnECM/yjgEfAAAAIABn3NqR/8AAuiigZ6JVDqG0k+GfnjMYhgoRYrfjH+1MhC7XkDDCVMLD3/qegUl1pwdYiPD3wnVAAi5eYTQsgN5H56WIomQmL7d8BXNeolbkG312OtSiW1sXcnRidJMNhfMBA0jE0D4oXkd5AdSAfET/GZfbDXXSNzgldR5usCDgAAAAvJBm3hJqEFsmUwIV//+OEAAIaVykEALUwppJX4J+0CBSRcPd2YF+gkBxLtPC7JgO/Kwqg1JpWaT8SgsnkQL2F9wtr+3N0PNpIFyS6kXqkkinlUlyKSRvM49aOVvZIqADjn/rl46HwZrltHxcezKDvOfU5/8gs4yF0EgZYy+RXCIzaueXy1Um48pKfLq6/7m2QYsI8fjBJFrEPeIF14l8e70uJmV8T6WpWMUnBFYRvDWNpBhw+AGVlCCdf/OgyZKjkv9YpQiJ8onDsFNJ45etvjDpBRSqkuMXBfEX3yv0i6t0Ql9A6xk5+njy3Jtfmlw/YQkNGWuuWVrU6MRxpZd6gH1Ubm6foDTIzL/qhtvQ8ZAkkvVneg7JtjCwFYYSdpikH2qSwPjPHXTaxFcMmvYRRKkBn5Yf1bJk3LOLBgsWdUk8e52nVne/b2wJhO0UyJTp1vKFKpUJjmwdOzvXdoGO5H2LAt3ayy19sXOCzKclpv8zIFZmQZwkrNxOcooSrWo9kf/e5+TdTz6BePbVy0ET2NYDgbKwPthKqUZJ7dmHAixatqFCATNDdt0T1R34HZd8VVaOBd+XOa4bA8BUuAVhO4QxWsqK98fv73YCqYIHShVeIZkPovBf1Et99BtMKggzShb+S7ptMBVszDv0e77HY5zxdeyLPzUmJ8jkAlmaOpXpUAIX9LhoAmZsnNiPlzp/kONPzaLf5unSRibag0KLsBiWCc4SVFHj4w8+0oFaafuj9lVQEs4zQb/BVDvGkqwR0M/sAyLkRdrVwNoYMptMopwNbW+cLy85hxX/DuQzLbmDoYstK4cIb0gru8bZzBKE/TYrzGIf11Wjq6c0N2QdNPeTBapQk5qzJ8WsHJG1pgtlhZAyyULChJEs2XeRkpDjLYtkBNgSO+X0uJZFLvXaRQkaHdMGpXIRYvsS8+i+jPrUnRRGbdGd9yUfDEh60KIq+QUNOygM+/FiA255Jfe0g5kOSwFZO3LuoDAmZJSH9SNkSShAAAA1kGflkUVLCP/AALXiZLUVREMgLK6DacafCjQ/M5O+wY3DmB8V3ZvtR7wmy8sAAZqi3yOv0UAV6Z2nYsSCbiPR2+m+5uToPVtxPcIm5GVe7afrob+9MdZMdaGOVvdyq4U3D1DK7ndgUHI/+pj406BfZwVe2daY78fMWbYlP9haARhjF+PZlMSEeCktr+2iOs45OqtL2ZZ8PXyzS5sRnuvy8gH2DIcbGOv98OlA0yhRymj7yEqGxVjFIUPb2G8ywGkjXWXdBGi5KM4hmD4xt/SF2w1q9WOAfkAAACBAZ+1dEf/AABh8LSByeHxUfCZXk780srPjqByHKI6TRhUOH0nNklpaFz12h3g+jNxBJWreeuQEA/je5rTufwY2st3jOi3CAB0IeTck0ADy84kJ3gidIuCpQADm1LH7iLOhUjb4Gatq0YB8o1MVukEakx5Q6Cmx4tRbjT8JKrZ4K2BAAAAfgGft2pH/wAEdjryqIHimPUnTPSRbsbrLrEbCbKxfYIpg1Jsbjaofy6MKlNlI7xxchopyk3upCs0dO7XnD2YkY51rGaspFVncmBcqN1PG3pplnDtesonmcvx8u4A6MxQ51puksbkpTNvNxX2Sd+sIB4qE48S7AhTw90aMwBvQQAAAf5Bm7pJqEFsmUwUTCv//jhAACGkIFgAtKE1sv2VOkTI1cpB3TR5izJM7ZsQFWOc4HX9vMT1TkD8mJ91uqxxzNXME4rQdSQE3wVKuYBVmEqhwfbrsUO8whk9f//0YUEfWye1NjQCcDEswo4LK2x/vivlnqokTW9YR4t4/JWIKf4BiTvwX352mbtjXVvl1djrfTX9B2quCbawGJSQKPsO2SgXmgOvKopOl4AOb+VmqEhP6Y+cXB/oX6p+3QZ1TZ/GMh7461m8m+WMnwJp4Gn9pL3ylDKrgiTTw/tBt4U8WcHtT124WDAyycJbxZ07nYyrh1ObSUxuqItu2TSWg06mtLQmEKAcRD3gjiM+r1RMMPGUUv/6tLGx//fvP9uV8wwiYn2ISSpzdA2Q8IV4X/NL6zUfvF/bvgzibCFFXcvnGK4OFFCrk3BNcxPUn6rCAeAIcbdOe1eja++ViIbb8rXeh92wy+bnPYlrRQMTzvkUf4al8oNlj/5gNKbLHLWGjrxSlGz1tjoUGPukF18cp4Ik37JRVd3ZfT8YjZctm8gn0Swk3ekFwqXLRGTvUUuNKB5IpqXG5Q6JVPVp16crdOoG/BuryceQWZC7AqELKBbVth8WqetVD5sHni+xIAof0QDz2FYlesGpknbW5E2uoddB0dQooGz867pCzQ9dDNjmo4AAAAB/AZ/Zakf/AAR2SEica1IYUSuBoGV3b2cjBTm1tKaZxD2w2MxBfi/XKpO4jx3GXkS0RycMz6sDfvAAM/GRT61QPCq+X7ZqnuYmjuYXXySJ0DjTooJ1XExPqVPIcLMzRcAkYRFBxacYl+ZxA3zHUl2b0m5Wzy5oPibEGE3FDsgh4QAAAbVBm91J4QpSZTAhP/3xAABT16JOj7UAH7Q0eQNADRliUyWz6B+woPC0v5f4qksGTj3qf0r6iwQT2lAPTjiaKwlHKmMZPL53eGoOwxnqpfwRTHM1HMGq+FUXzwMQOI8wfMW/dhb/+9qckB/y8HW9GjOrtr4Tf5kHslj3vc9wcoMbHd938sL6oyFMsvGCtVKhbOIFRs1fCFTEdzMkcqldLRwKTZ449BwSfTxB1vdwODYUlZiapwxfF90iWYx0J/+Cias/+BkhOYdcX/g/7CGtiIPYGntSdbzbeDYtbwV2VKI1P2PiakuXlzXH29gAlCcOEGNhXdTxP/cjUXLUfPVRARaZnUHTOPF9sacW2t743eGzr4WGZXTwstmt0HJe9zij3tEsyMeyvH2QXckCX7zH3pCkaM9NX8NVidJwtcT+XipO7IWw0JMYN7HVYptvEOn+Gt3UANa8Q8pFyqHwO/0s8XvTy98hGRvAVrHBNm8f08OGV8T6utIRNtuIYBmrAV1ZTQ4lKtLjWk1BcXlemTasOFBsLV6jq4hRTTQOnFmIFralc/51MidClhE7m3r1iL8d547Rrd9UJAAAAJBBn/tFNEx/AAL9KOrSXvCbG6xMdMSRJvBIrN7qu3tOPR9TD2oIw76diF446G26KKG4quKs7D+1SwWUNoa/h3BUhgBaSOMmxqeS6oAvrhbeltj5WH30Zod7JLad8ADmklnM0fjjO/SDrHVoMDpS5x9KNpgj68VQhZqGQmcUKXmbohoLt/D0Fw2P5yaElWQAe0EAAAB+AZ4cakf/AAR2S48EqXiakTVmnkhGHe4nPubqlFq5gDQLhzQmkF4AxbX95A5jPiE/6xS5HaC4l9LMZuKJlUtPxtW6kttOUzA6amIf+uhDl8qbLrVIQzEFi6kAICEQOwFEbjzLcOvpzw7Wui9M/ai0zW/GluQmxoqIIpNJCQHXAAAA20GaH0moQWiZTBTx//yEAADca8s+WMrYrGtV07ZrOe0OWoznNZM26XJ55r/0vObkfmJFIAhEFdYqqAD9uQdsdVyvo0dtn0dN7RlmqGBjNV13DemAEZHMSYNKieFdkM6s0eiKWhxcuXvVt/2ruMrGD/TqfNMdoGF1JhwsX7TGHfyie/Hdq3SQ6YwQi6rDeIByOmwu4wODE7QwkjK3MIMu5a073xbjBCmOCVoAkjnOdBy7TtnQpdyl688tlbSJEswqDRqU9KEkRiHb6wStHO34fTPlFN4g07tefobqQAAAAIgBnj5qR/8AAN1aIsbTfotTPavedMwRaiqnt4sjaEKfuQ24Ynoximb/7mAEIJ8bsn9MVjrpdE/ZBQKKuKSP6gprdyl12PQR/rsHYMFWBdf/Tmba7jNFSBuAQKX7uPBKq2pvXPVLGZKBM362ueb04RwLORIYAbCQoLExZMoIdRb2eK+zoCGOnwScAAAEom1vb3YAAABsbXZoZAAAAAAAAAAAAAAAAAAAA+gAAAIWAAEAAAEAAAAAAAAAAAAAAAABAAAAAAAAAAAAAAAAAAAAAQAAAAAAAAAAAAAAAAAAQAAAAAAAAAAAAAAAAAAAAAAAAAAAAAAAAAAAAAAAAAIAAAPMdHJhawAAAFx0a2hkAAAAAwAAAAAAAAAAAAAAAQAAAAAAAAIWAAAAAAAAAAAAAAAAAAAAAAABAAAAAAAAAAAAAAAAAAAAAQAAAAAAAAAAAAAAAAAAQAAAAAQAAAABAAAAAAAAJGVkdHMAAAAcZWxzdAAAAAAAAAABAAACFgAAAgAAAQAAAAADRG1kaWEAAAAgbWRoZAAAAAAAAAAAAAAAAAAAPAAAACAAVcQAAAAAAC1oZGxyAAAAAAAAAAB2aWRlAAAAAAAAAAAAAAAAVmlkZW9IYW5kbGVyAAAAAu9taW5mAAAAFHZtaGQAAAABAAAAAAAAAAAAAAAkZGluZgAAABxkcmVmAAAAAAAAAAEAAAAMdXJsIAAAAAEAAAKvc3RibAAAAK9zdHNkAAAAAAAAAAEAAACfYXZjMQAAAAAAAAABAAAAAAAAAAAAAAAAAAAAAAQAAQAASAAAAEgAAAAAAAAAAQAAAAAAAAAAAAAAAAAAAAAAAAAAAAAAAAAAAAAAAAAAABj//wAAADVhdmNDAWQAH//hABhnZAAfrNlAQAhoQAAAAwBAAAAeA8YMZYABAAZo6+PLIsD9+PgAAAAAFGJ0cnQAAAAAAAJ+FgACfhYAAAAYc3R0cwAAAAAAAAABAAAAIAAAAQAAAAAUc3RzcwAAAAAAAAABAAAAAQAAAQhjdHRzAAAAAAAAAB8AAAABAAACAAAAAAEAAAUAAAAAAQAAAgAAAAABAAAAAAAAAAEAAAEAAAAAAQAABQAAAAABAAACAAAAAAEAAAAAAAAAAQAAAQAAAAABAAAFAAAAAAEAAAIAAAAAAQAAAAAAAAABAAABAAAAAAEAAAUAAAAAAQAAAgAAAAABAAAAAAAAAAEAAAEAAAAAAQAABQAAAAABAAACAAAAAAEAAAAAAAAAAQAAAQAAAAABAAAFAAAAAAEAAAIAAAAAAQAAAAAAAAABAAABAAAAAAEAAAMAAAAAAQAAAQAAAAABAAAEAAAAAAIAAAEAAAAAAQAAAwAAAAABAAABAAAAABxzdHNjAAAAAAAAAAEAAAABAAAAIAAAAAEAAACUc3RzegAAAAAAAAAAAAAAIAAAB3wAAAJAAAAA7AAAAJsAAABEAAACWwAAAKoAAACCAAAAnAAAAuoAAADtAAAAXwAAAKYAAAL/AAAA9AAAAKAAAACCAAADawAAAPoAAABwAAAAhAAAAvYAAADaAAAAhQAAAIIAAAICAAAAgwAAAbkAAACUAAAAggAAAN8AAACMAAAAFHN0Y28AAAAAAAAAAQAAADAAAABidWR0YQAAAFptZXRhAAAAAAAAACFoZGxyAAAAAAAAAABtZGlyYXBwbAAAAAAAAAAAAAAAAC1pbHN0AAAAJal0b28AAAAdZGF0YQAAAAEAAAAATGF2ZjU4Ljc2LjEwMA==\" type=\"video/mp4\" />\n",
              "           </video>"
            ],
            "text/plain": [
              "<IPython.core.display.HTML object>"
            ]
          },
          "metadata": {},
          "output_type": "display_data"
        }
      ],
      "source": [
        "sample = observations[-1]\n",
        "utils.colab.show_sample(renderer, sample, savebase=\"diffvids\")"
      ]
    },
    {
      "cell_type": "markdown",
      "metadata": {
        "id": "iHn4eDk1V0hp"
      },
      "source": [
        "Render the full reverse diffusion process for the first sample.\n",
        "\n",
        "This renders `horizon * n_diffusion_steps` images, so takes a few minutes. Increasing `substep` will speed up the video generation, but cause it to skip frames."
      ]
    },
    {
      "cell_type": "code",
      "execution_count": 11,
      "metadata": {
        "colab": {
          "base_uri": "https://localhost:8080/",
          "height": 458
        },
        "id": "FpRFKqP5Q8og",
        "outputId": "9a7e9e8a-acf6-4e80-9375-86ed928db00f"
      },
      "outputs": [
        {
          "name": "stderr",
          "output_type": "stream",
          "text": [
            "  0%|          | 0/21 [00:00<?, ?it/s]"
          ]
        },
        {
          "name": "stderr",
          "output_type": "stream",
          "text": [
            "100%|██████████| 21/21 [00:13<00:00,  1.56it/s]\n"
          ]
        },
        {
          "data": {
            "text/html": [
              "<video alt=\"test\" autoplay \n",
              "              loop controls style=\"height: 400px;\">\n",
              "              <source src=\"data:video/mp4;base64,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\" type=\"video/mp4\" />\n",
              "           </video>"
            ],
            "text/plain": [
              "<IPython.core.display.HTML object>"
            ]
          },
          "metadata": {},
          "output_type": "display_data"
        }
      ],
      "source": [
        "utils.colab.show_diffusion(renderer, observations[:,:1], substep=1, savebase=\"diffvids\")"
      ]
    },
    {
      "cell_type": "code",
      "execution_count": null,
      "metadata": {
        "id": "qYCkHAZAYNsd"
      },
      "outputs": [],
      "source": []
    }
  ],
  "metadata": {
    "accelerator": "GPU",
    "colab": {
      "collapsed_sections": [
        "7Cy2P-c4XFTx"
      ],
      "name": "diffuser-sample.ipynb",
      "provenance": []
    },
    "kernelspec": {
      "display_name": "Python 3",
      "name": "python3"
    },
    "language_info": {
      "codemirror_mode": {
        "name": "ipython",
        "version": 3
      },
      "file_extension": ".py",
      "mimetype": "text/x-python",
      "name": "python",
      "nbconvert_exporter": "python",
      "pygments_lexer": "ipython3",
      "version": "3.8.18"
    }
  },
  "nbformat": 4,
  "nbformat_minor": 0
}
